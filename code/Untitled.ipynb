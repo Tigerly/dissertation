{
 "cells": [
  {
   "cell_type": "code",
   "execution_count": 1,
   "metadata": {},
   "outputs": [
    {
     "name": "stderr",
     "output_type": "stream",
     "text": [
      "── Attaching packages ─────────────────────────────────────── tidyverse 1.2.1 ──\n",
      "✔ ggplot2 2.2.1     ✔ purrr   0.2.4\n",
      "✔ tibble  1.4.2     ✔ dplyr   0.7.4\n",
      "✔ tidyr   0.7.2     ✔ stringr 1.2.0\n",
      "✔ readr   1.1.1     ✔ forcats 0.2.0\n",
      "── Conflicts ────────────────────────────────────────── tidyverse_conflicts() ──\n",
      "✖ dplyr::filter() masks stats::filter()\n",
      "✖ dplyr::lag()    masks stats::lag()\n"
     ]
    }
   ],
   "source": [
    "library(tidyverse)"
   ]
  },
  {
   "cell_type": "code",
   "execution_count": 2,
   "metadata": {
    "scrolled": true
   },
   "outputs": [
    {
     "name": "stdout",
     "output_type": "stream",
     "text": [
      "\n",
      "*********************************************************************\n",
      "Kruschke, J. K. (2015). Doing Bayesian Data Analysis, Second Edition:\n",
      "A Tutorial with R, JAGS, and Stan. Academic Press / Elsevier.\n",
      "*********************************************************************\n",
      "\n"
     ]
    },
    {
     "name": "stderr",
     "output_type": "stream",
     "text": [
      "Loading required package: coda\n",
      "Linked to JAGS 4.3.0\n",
      "Loaded modules: basemod,bugs\n",
      "\n",
      "Attaching package: ‘runjags’\n",
      "\n",
      "The following object is masked from ‘package:tidyr’:\n",
      "\n",
      "    extract\n",
      "\n"
     ]
    }
   ],
   "source": [
    "#------------------------------------------------------------------------------- \n",
    "# Optional generic preliminaries:\n",
    "# graphics.off() # This closes all of R's graphics windows.\n",
    "# rm(list=ls())  # Careful! This clears all of R's memory!\n",
    "#------------------------------------------------------------------------------- \n",
    "#Load The data file \n",
    "#.............................................................................\n",
    "myDataFrame = read.csv( file=\"HairEyeColor.csv\" )\n",
    "# Alter count by a multiplier, for demo purposes:\n",
    "countMult = 1\n",
    "myDataFrame$Count = round( myDataFrame$Count * countMult )\n",
    "fileNameRoot = paste0(\"HairEyeColor-\",countMult,\"-\") \n",
    "yName=\"Count\" \n",
    "x1Name=\"Eye\" \n",
    "x2Name=\"Hair\"  \n",
    "x1contrasts = list( \n",
    "  list( c(\"Green\") , c(\"Hazel\") , compVal=0.0 , ROPE=c(-0.1,0.1) ) ,\n",
    "  list( c(\"Blue\")  , c(\"Green\") , compVal=0.0 , ROPE=c(-0.1,0.1) )  \n",
    ")\n",
    "x2contrasts = list( \n",
    "  list( c(\"Black\") , c(\"Blond\") , compVal=0.0 , ROPE=c(-0.1,0.1) ) ,\n",
    "  list( c(\"Brown\") , c(\"Red\")   , compVal=0.0 , ROPE=c(-0.1,0.1) )  \n",
    ")\n",
    "x1x2contrasts = list( \n",
    "  list( list( c(\"Blue\") , c(\"Brown\") ) ,\n",
    "        list( c(\"Black\") , c(\"Blond\") ) ,\n",
    "        compVal=0.0 , ROPE=c(-0.1,0.1) ) \n",
    ") \n",
    "numSavedSteps = 12000\n",
    "thinSteps = 10\n",
    "\n",
    "graphFileType = \"eps\" \n",
    "#------------------------------------------------------------------------------- \n",
    "# Load the relevant model into R's working memory:\n",
    "source(\"Jags-Ycount-Xnom2fac-MpoissonExp.R\")\n",
    "#------------------------------------------------------------------------------- \n"
   ]
  },
  {
   "cell_type": "code",
   "execution_count": 3,
   "metadata": {},
   "outputs": [
    {
     "data": {
      "text/html": [
       "<table>\n",
       "<thead><tr><th scope=col>Hair</th><th scope=col>Eye</th><th scope=col>Count</th></tr></thead>\n",
       "<tbody>\n",
       "\t<tr><td>Black</td><td>Blue </td><td> 20  </td></tr>\n",
       "\t<tr><td>Black</td><td>Brown</td><td> 68  </td></tr>\n",
       "\t<tr><td>Black</td><td>Green</td><td>  5  </td></tr>\n",
       "\t<tr><td>Black</td><td>Hazel</td><td> 15  </td></tr>\n",
       "\t<tr><td>Blond</td><td>Blue </td><td> 94  </td></tr>\n",
       "\t<tr><td>Blond</td><td>Brown</td><td>  7  </td></tr>\n",
       "\t<tr><td>Blond</td><td>Green</td><td> 16  </td></tr>\n",
       "\t<tr><td>Blond</td><td>Hazel</td><td> 10  </td></tr>\n",
       "\t<tr><td>Brown</td><td>Blue </td><td> 84  </td></tr>\n",
       "\t<tr><td>Brown</td><td>Brown</td><td>119  </td></tr>\n",
       "\t<tr><td>Brown</td><td>Green</td><td> 29  </td></tr>\n",
       "\t<tr><td>Brown</td><td>Hazel</td><td> 54  </td></tr>\n",
       "\t<tr><td>Red  </td><td>Blue </td><td> 17  </td></tr>\n",
       "\t<tr><td>Red  </td><td>Brown</td><td> 26  </td></tr>\n",
       "\t<tr><td>Red  </td><td>Green</td><td> 14  </td></tr>\n",
       "\t<tr><td>Red  </td><td>Hazel</td><td> 14  </td></tr>\n",
       "</tbody>\n",
       "</table>\n"
      ],
      "text/latex": [
       "\\begin{tabular}{r|lll}\n",
       " Hair & Eye & Count\\\\\n",
       "\\hline\n",
       "\t Black & Blue  &  20  \\\\\n",
       "\t Black & Brown &  68  \\\\\n",
       "\t Black & Green &   5  \\\\\n",
       "\t Black & Hazel &  15  \\\\\n",
       "\t Blond & Blue  &  94  \\\\\n",
       "\t Blond & Brown &   7  \\\\\n",
       "\t Blond & Green &  16  \\\\\n",
       "\t Blond & Hazel &  10  \\\\\n",
       "\t Brown & Blue  &  84  \\\\\n",
       "\t Brown & Brown & 119  \\\\\n",
       "\t Brown & Green &  29  \\\\\n",
       "\t Brown & Hazel &  54  \\\\\n",
       "\t Red   & Blue  &  17  \\\\\n",
       "\t Red   & Brown &  26  \\\\\n",
       "\t Red   & Green &  14  \\\\\n",
       "\t Red   & Hazel &  14  \\\\\n",
       "\\end{tabular}\n"
      ],
      "text/markdown": [
       "\n",
       "Hair | Eye | Count | \n",
       "|---|---|---|---|---|---|---|---|---|---|---|---|---|---|---|---|\n",
       "| Black | Blue  |  20   | \n",
       "| Black | Brown |  68   | \n",
       "| Black | Green |   5   | \n",
       "| Black | Hazel |  15   | \n",
       "| Blond | Blue  |  94   | \n",
       "| Blond | Brown |   7   | \n",
       "| Blond | Green |  16   | \n",
       "| Blond | Hazel |  10   | \n",
       "| Brown | Blue  |  84   | \n",
       "| Brown | Brown | 119   | \n",
       "| Brown | Green |  29   | \n",
       "| Brown | Hazel |  54   | \n",
       "| Red   | Blue  |  17   | \n",
       "| Red   | Brown |  26   | \n",
       "| Red   | Green |  14   | \n",
       "| Red   | Hazel |  14   | \n",
       "\n",
       "\n"
      ],
      "text/plain": [
       "   Hair  Eye   Count\n",
       "1  Black Blue   20  \n",
       "2  Black Brown  68  \n",
       "3  Black Green   5  \n",
       "4  Black Hazel  15  \n",
       "5  Blond Blue   94  \n",
       "6  Blond Brown   7  \n",
       "7  Blond Green  16  \n",
       "8  Blond Hazel  10  \n",
       "9  Brown Blue   84  \n",
       "10 Brown Brown 119  \n",
       "11 Brown Green  29  \n",
       "12 Brown Hazel  54  \n",
       "13 Red   Blue   17  \n",
       "14 Red   Brown  26  \n",
       "15 Red   Green  14  \n",
       "16 Red   Hazel  14  "
      ]
     },
     "metadata": {},
     "output_type": "display_data"
    }
   ],
   "source": [
    "myDataFrame"
   ]
  },
  {
   "cell_type": "code",
   "execution_count": 49,
   "metadata": {},
   "outputs": [],
   "source": [
    "states <- c(\"s1\", \"s2\", \"s3\")\n",
    "actions <- c(\"a1\", \"a2\", \"a3\")\n",
    "\n",
    "df <- data.frame(states, actions)"
   ]
  },
  {
   "cell_type": "code",
   "execution_count": 50,
   "metadata": {},
   "outputs": [],
   "source": [
    "df <- df %>% expand(states, actions)"
   ]
  },
  {
   "cell_type": "code",
   "execution_count": 57,
   "metadata": {},
   "outputs": [],
   "source": [
    "rewards <- round(c(2, 1, 4, 1, 5, 2, 1, 1, 4))"
   ]
  },
  {
   "cell_type": "code",
   "execution_count": 58,
   "metadata": {},
   "outputs": [],
   "source": [
    "df[\"rewards\"] <- rewards "
   ]
  },
  {
   "cell_type": "code",
   "execution_count": 59,
   "metadata": {},
   "outputs": [
    {
     "data": {
      "text/html": [
       "<table>\n",
       "<thead><tr><th scope=col>states</th><th scope=col>actions</th><th scope=col>rewards</th></tr></thead>\n",
       "<tbody>\n",
       "\t<tr><td>s1</td><td>a1</td><td>2 </td></tr>\n",
       "\t<tr><td>s1</td><td>a2</td><td>1 </td></tr>\n",
       "\t<tr><td>s1</td><td>a3</td><td>4 </td></tr>\n",
       "\t<tr><td>s2</td><td>a1</td><td>1 </td></tr>\n",
       "\t<tr><td>s2</td><td>a2</td><td>5 </td></tr>\n",
       "\t<tr><td>s2</td><td>a3</td><td>2 </td></tr>\n",
       "\t<tr><td>s3</td><td>a1</td><td>1 </td></tr>\n",
       "\t<tr><td>s3</td><td>a2</td><td>1 </td></tr>\n",
       "\t<tr><td>s3</td><td>a3</td><td>4 </td></tr>\n",
       "</tbody>\n",
       "</table>\n"
      ],
      "text/latex": [
       "\\begin{tabular}{r|lll}\n",
       " states & actions & rewards\\\\\n",
       "\\hline\n",
       "\t s1 & a1 & 2 \\\\\n",
       "\t s1 & a2 & 1 \\\\\n",
       "\t s1 & a3 & 4 \\\\\n",
       "\t s2 & a1 & 1 \\\\\n",
       "\t s2 & a2 & 5 \\\\\n",
       "\t s2 & a3 & 2 \\\\\n",
       "\t s3 & a1 & 1 \\\\\n",
       "\t s3 & a2 & 1 \\\\\n",
       "\t s3 & a3 & 4 \\\\\n",
       "\\end{tabular}\n"
      ],
      "text/markdown": [
       "\n",
       "states | actions | rewards | \n",
       "|---|---|---|---|---|---|---|---|---|\n",
       "| s1 | a1 | 2  | \n",
       "| s1 | a2 | 1  | \n",
       "| s1 | a3 | 4  | \n",
       "| s2 | a1 | 1  | \n",
       "| s2 | a2 | 5  | \n",
       "| s2 | a3 | 2  | \n",
       "| s3 | a1 | 1  | \n",
       "| s3 | a2 | 1  | \n",
       "| s3 | a3 | 4  | \n",
       "\n",
       "\n"
      ],
      "text/plain": [
       "  states actions rewards\n",
       "1 s1     a1      2      \n",
       "2 s1     a2      1      \n",
       "3 s1     a3      4      \n",
       "4 s2     a1      1      \n",
       "5 s2     a2      5      \n",
       "6 s2     a3      2      \n",
       "7 s3     a1      1      \n",
       "8 s3     a2      1      \n",
       "9 s3     a3      4      "
      ]
     },
     "metadata": {},
     "output_type": "display_data"
    }
   ],
   "source": [
    "df"
   ]
  },
  {
   "cell_type": "code",
   "execution_count": 9,
   "metadata": {},
   "outputs": [],
   "source": [
    "yName=\"reward\" \n",
    "x1Name=\"state\" \n",
    "x2Name=\"action\""
   ]
  },
  {
   "cell_type": "code",
   "execution_count": 61,
   "metadata": {},
   "outputs": [],
   "source": [
    "myDataFrame = df"
   ]
  },
  {
   "cell_type": "code",
   "execution_count": 10,
   "metadata": {},
   "outputs": [],
   "source": [
    "myDataFrame = read.csv( file=\"states.csv\" )"
   ]
  },
  {
   "cell_type": "code",
   "execution_count": 11,
   "metadata": {},
   "outputs": [
    {
     "name": "stdout",
     "output_type": "stream",
     "text": [
      "    shape      rate \n",
      "1.6403882 0.1425972 \n",
      "Calling 4 simulations using the parallel method...\n",
      "Following the progress of chain 1 (the program will wait for all chains\n",
      "to finish before continuing):\n",
      "Welcome to JAGS 4.3.0 on Mon Jan 29 10:01:19 2018\n",
      "JAGS is free software and comes with ABSOLUTELY NO WARRANTY\n",
      "Loading module: basemod: ok\n",
      "Loading module: bugs: ok\n",
      ". . Reading data file data.txt\n",
      ". Compiling model graph\n",
      "   Resolving undeclared variables\n",
      "   Allocating nodes\n",
      "Graph information:\n",
      "   Observed stochastic nodes: 12\n",
      "   Unobserved stochastic nodes: 23\n",
      "   Total graph size: 178\n",
      "\n",
      "WARNING: Unused variable(s) in data table:\n",
      "ySum\n",
      "\n",
      ". Reading parameter file inits1.txt\n",
      ". Initializing model\n",
      ". Adapting 1000\n",
      "-------------------------------------------------| 1000\n",
      "++++++++++++++++++++++++++++++++++++++++++++++++++ 100%\n",
      "Adaptation successful\n",
      ". Updating 2000\n",
      "-------------------------------------------------| 2000\n",
      "************************************************** 100%\n",
      ". . . . . . . . . . . . Updating 30000\n",
      "-------------------------------------------------| 30000\n",
      "************************************************** 100%\n",
      ". . . . Updating 0\n",
      ". Deleting model\n",
      ". \n",
      "All chains have finished\n",
      "Simulation complete.  Reading coda files...\n",
      "Coda files loaded successfully\n",
      "Finished running the simulation\n"
     ]
    }
   ],
   "source": [
    "# Generate the MCMC chain:\n",
    "mcmcCoda = genMCMC( datFrm=myDataFrame , \n",
    "                    yName=yName , x1Name=x1Name , x2Name=x2Name ,\n",
    "                    numSavedSteps=numSavedSteps , thinSteps=thinSteps )"
   ]
  },
  {
   "cell_type": "code",
   "execution_count": 7,
   "metadata": {},
   "outputs": [
    {
     "name": "stdout",
     "output_type": "stream",
     "text": [
      " [1] \"ppx1x2p[1,1]\" \"ppx1x2p[2,1]\" \"ppx1x2p[3,1]\" \"ppx1x2p[1,2]\" \"ppx1x2p[2,2]\"\n",
      " [6] \"ppx1x2p[3,2]\" \"ppx1x2p[1,3]\" \"ppx1x2p[2,3]\" \"ppx1x2p[3,3]\" \"ppx1p[1]\"    \n",
      "[11] \"ppx1p[2]\"     \"ppx1p[3]\"     \"ppx2p[1]\"     \"ppx2p[2]\"     \"ppx2p[3]\"    \n",
      "[16] \"b0\"           \"b1[1]\"        \"b1[2]\"        \"b1[3]\"        \"b2[1]\"       \n",
      "[21] \"b2[2]\"        \"b2[3]\"        \"b1b2[1,1]\"    \"b1b2[2,1]\"    \"b1b2[3,1]\"   \n",
      "[26] \"b1b2[1,2]\"    \"b1b2[2,2]\"    \"b1b2[3,2]\"    \"b1b2[1,3]\"    \"b1b2[2,3]\"   \n",
      "[31] \"b1b2[3,3]\"    \"m[1,1]\"       \"m[2,1]\"       \"m[3,1]\"       \"m[1,2]\"      \n",
      "[36] \"m[2,2]\"       \"m[3,2]\"       \"m[1,3]\"       \"m[2,3]\"       \"m[3,3]\"      \n",
      "[41] \"a1SD\"         \"a2SD\"         \"a1a2SD\"      \n"
     ]
    }
   ],
   "source": [
    "\n",
    "#------------------------------------------------------------------------------- \n",
    "# Display diagnostics of chain, for specified parameters:\n",
    "parameterNames = varnames(mcmcCoda) \n",
    "show( parameterNames ) # show all parameter names, for reference\n",
    "for ( parName in c(\"b0\",\"b1[1]\",\"b2[1]\",\"b1b2[1,1]\",\"ppx1x2p[1,1]\",\n",
    "                   \"a1SD\",\"a1a2SD\") ) {\n",
    "  diagMCMC( codaObject=mcmcCoda , parName=parName , \n",
    "            saveName=fileNameRoot , saveType=graphFileType )\n",
    "}\n"
   ]
  },
  {
   "cell_type": "code",
   "execution_count": 10,
   "metadata": {},
   "outputs": [
    {
     "data": {},
     "metadata": {},
     "output_type": "display_data"
    }
   ],
   "source": [
    "??plotMCMC"
   ]
  },
  {
   "cell_type": "code",
   "execution_count": 12,
   "metadata": {},
   "outputs": [
    {
     "name": "stdout",
     "output_type": "stream",
     "text": [
      "                           Mean       Median          Mode     ESS HDImass\n",
      "ppx1x2p[1,1] s1 a1  0.004395726  0.003437910  0.0014167924  3348.4    0.95\n",
      "ppx1x2p[2,1] s2 a1  0.322170992  0.321970500  0.3228610298 12000.0    0.95\n",
      "ppx1x2p[3,1] s3 a1  0.322401483  0.322310000  0.3241502795 12000.0    0.95\n",
      "ppx1x2p[4,1] s4 a1  0.003977002  0.003026310  0.0012743292  8444.7    0.95\n",
      "ppx1x2p[1,2] s1 a2  0.321800415  0.321689500  0.3220192264 12000.0    0.95\n",
      "ppx1x2p[2,2] s2 a2  0.003934433  0.003008505  0.0012060263  5268.0    0.95\n",
      "ppx1x2p[3,2] s3 a2  0.003947179  0.003005865  0.0010890440  6045.9    0.95\n",
      "ppx1x2p[4,2] s4 a2  0.003608813  0.002684295  0.0009333701  7451.3    0.95\n",
      "ppx1x2p[1,3] s1 a3  0.003567374  0.002647120  0.0009297260  9220.5    0.95\n",
      "ppx1x2p[2,3] s2 a3  0.003491011  0.002556975  0.0010385426  7264.7    0.95\n",
      "ppx1x2p[3,3] s3 a3  0.003525733  0.002625690  0.0008938744 10751.3    0.95\n",
      "ppx1x2p[4,3] s4 a3  0.003179835  0.002239160  0.0007621583 12000.0    0.95\n",
      "ppx1p[1]            0.329763517  0.329516000  0.3287017607 12552.2    0.95\n",
      "ppx1p[2]            0.329596442  0.329361500  0.3296294925 12000.0    0.95\n",
      "ppx1p[3]            0.329874392  0.329787500  0.3315488046 12000.0    0.95\n",
      "ppx1p[4]            0.010765650  0.009818410  0.0073722659  9295.5    0.95\n",
      "ppx2p[1]            0.652945206  0.653142500  0.6549639921 12000.0    0.95\n",
      "ppx2p[2]            0.333290843  0.333196000  0.3355984081 12000.0    0.95\n",
      "ppx2p[3]            0.013763953  0.012758250  0.0108061110 11105.5    0.95\n",
      "b0                  0.925526756  0.939591000  0.9357532733  2185.1    0.95\n",
      "b1[1] s1            0.460549710  0.474264000  0.5879875953  5690.3    0.95\n",
      "b1[2] s2            0.410788765  0.428712500  0.4225462416  4733.8    0.95\n",
      "b1[3] s3            0.411465586  0.425083000  0.4240291166  7467.3    0.95\n",
      "b1[4] s4           -1.282804060 -1.248245000 -1.1652977216 10129.9    0.95\n",
      "b2[1] a1            1.301431999  1.304075000  1.3427106232  5250.3    0.95\n",
      "b2[2] a2            0.030105187  0.040010100  0.0381509210  5160.5    0.95\n",
      "b2[3] a3           -1.331537150 -1.310190000 -1.2603620989  7370.0    0.95\n",
      "b1b2[1,1] s1 a1    -2.767045224 -2.732465000 -2.7215486173  4296.4    0.95\n",
      "b1b2[2,1] s2 a1     1.958261233  1.926810000  1.8293101416  2804.3    0.95\n",
      "b1b2[3,1] s3 a1     1.958246397  1.929645000  1.9022154110  3832.5    0.95\n",
      "b1b2[4,1] s4 a1    -1.149462414 -1.128135000 -1.1217875250  9839.8    0.95\n",
      "b1b2[1,2] s1 a2     3.178578949  3.140650000  3.0013047121  3290.0    0.95\n",
      "b1b2[2,2] s2 a2    -1.579004024 -1.545300000 -1.5187848051 10926.4    0.95\n",
      "b1b2[3,2] s3 a2    -1.588742396 -1.554860000 -1.5730895518 11315.2    0.95\n",
      "b1b2[4,2] s4 a2    -0.010832558  0.005989360  0.0740560867 12000.0    0.95\n",
      "b1b2[1,3] s1 a3    -0.411533706 -0.387161000 -0.3850190539  9177.6    0.95\n",
      "b1b2[2,3] s2 a3    -0.379257257 -0.353510500 -0.2669469481 12000.0    0.95\n",
      "b1b2[3,3] s3 a3    -0.369504018 -0.340637500 -0.1888585541 12000.0    0.95\n",
      "b1b2[4,3] s4 a3     1.160294992  1.180920000  1.1143123501 12000.0    0.95\n",
      "m[1,1] s1 a1       -0.079536778  0.062719350  0.3026565204  3191.9    0.95\n",
      "m[2,1] s2 a1        4.596008778  4.597055000  4.5927359328 12000.0    0.95\n",
      "m[3,1] s3 a1        4.596670742  4.598115000  4.5927042070 12000.0    0.95\n",
      "m[4,1] s4 a1       -0.205307757 -0.070790750  0.0251734787  6987.3    0.95\n",
      "m[1,2] s1 a2        4.594760579  4.597600000  4.6067584096 12000.0    0.95\n",
      "m[2,2] s2 a2       -0.212583292 -0.075449800  0.2158553910  3724.2    0.95\n",
      "m[3,2] s3 a2       -0.221644858 -0.074067200  0.1356858641  5337.7    0.95\n",
      "m[4,2] s4 a2       -0.338004700 -0.194301000 -0.1042115031  7222.1    0.95\n",
      "m[1,3] s1 a3       -0.356994394 -0.203870000  0.0829450801  8779.0    0.95\n",
      "m[2,3] s2 a3       -0.374478903 -0.235513500  0.0304826099  5909.7    0.95\n",
      "m[3,3] s3 a3       -0.364048856 -0.218846000  0.0998392480  7813.5    0.95\n",
      "m[4,3] s4 a3       -0.528519504 -0.372641000 -0.0220163347 12000.0    0.95\n",
      "a1SD                1.985347615  1.520605000  0.9376072874   465.5    0.95\n",
      "a2SD                3.346106419  2.506185000  1.4501858831   220.4    0.95\n",
      "a1a2SD              2.777373079  2.613850000  2.3668287752   702.9    0.95\n",
      "                         HDIlow     HDIhigh CompVal PcntGtCompVal ROPElow\n",
      "ppx1x2p[1,1] s1 a1  8.88582e-06  0.01148580      NA            NA      NA\n",
      "ppx1x2p[2,1] s2 a1  2.71152e-01  0.37362700      NA            NA      NA\n",
      "ppx1x2p[3,1] s3 a1  2.72024e-01  0.37547800      NA            NA      NA\n",
      "ppx1x2p[4,1] s4 a1  6.59208e-06  0.01077310      NA            NA      NA\n",
      "ppx1x2p[1,2] s1 a2  2.71259e-01  0.37456700      NA            NA      NA\n",
      "ppx1x2p[2,2] s2 a2  3.57191e-06  0.01057180      NA            NA      NA\n",
      "ppx1x2p[3,2] s3 a2  1.79371e-06  0.01086140      NA            NA      NA\n",
      "ppx1x2p[4,2] s4 a2  2.54262e-06  0.01002490      NA            NA      NA\n",
      "ppx1x2p[1,3] s1 a3  7.24198e-06  0.01000930      NA            NA      NA\n",
      "ppx1x2p[2,3] s2 a3  5.64750e-06  0.00985099      NA            NA      NA\n",
      "ppx1x2p[3,3] s3 a3  1.46392e-05  0.00984781      NA            NA      NA\n",
      "ppx1x2p[4,3] s4 a3  6.69690e-07  0.00937800      NA            NA      NA\n",
      "ppx1p[1]            2.78337e-01  0.38195900      NA            NA      NA\n",
      "ppx1p[2]            2.80301e-01  0.38324900      NA            NA      NA\n",
      "ppx1p[3]            2.80692e-01  0.38465100      NA            NA      NA\n",
      "ppx1p[4]            1.57172e-03  0.02192850      NA            NA      NA\n",
      "ppx2p[1]            6.00185e-01  0.70592300      NA            NA      NA\n",
      "ppx2p[2]            2.80917e-01  0.38537600      NA            NA      NA\n",
      "ppx2p[3]            2.69798e-03  0.02676680      NA            NA      NA\n",
      "b0                  3.79898e-01  1.48613000      NA            NA      NA\n",
      "b1[1] s1           -3.47914e-01  1.33993000      NA            NA      NA\n",
      "b1[2] s2           -4.54224e-01  1.27220000      NA            NA      NA\n",
      "b1[3] s3           -4.76751e-01  1.26997000      NA            NA      NA\n",
      "b1[4] s4           -2.33280e+00 -0.28503600      NA            NA      NA\n",
      "b2[1] a1            6.34551e-01  1.98232000      NA            NA      NA\n",
      "b2[2] a2           -7.33402e-01  0.77362100      NA            NA      NA\n",
      "b2[3] a3           -2.20523e+00 -0.52592700      NA            NA      NA\n",
      "b1b2[1,1] s1 a1    -4.00790e+00 -1.56423000      NA            NA      NA\n",
      "b1b2[2,1] s2 a1     1.03788e+00  2.95832000      NA            NA      NA\n",
      "b1b2[3,1] s3 a1     1.02825e+00  2.91175000      NA            NA      NA\n",
      "b1b2[4,1] s4 a1    -2.48717e+00  0.19325300      NA            NA      NA\n",
      "b1b2[1,2] s1 a2     2.24034e+00  4.24313000      NA            NA      NA\n",
      "b1b2[2,2] s2 a2    -2.84170e+00 -0.31765100      NA            NA      NA\n",
      "b1b2[3,2] s3 a2    -2.88805e+00 -0.34307700      NA            NA      NA\n",
      "b1b2[4,2] s4 a2    -1.45197e+00  1.34179000      NA            NA      NA\n",
      "b1b2[1,3] s1 a3    -1.80822e+00  0.86939000      NA            NA      NA\n",
      "b1b2[2,3] s2 a3    -1.76817e+00  0.86792100      NA            NA      NA\n",
      "b1b2[3,3] s3 a3    -1.80267e+00  0.90539200      NA            NA      NA\n",
      "b1b2[4,3] s4 a3    -3.63517e-01  2.60662000      NA            NA      NA\n",
      "m[1,1] s1 a1       -2.09199e+00  1.59483000      NA            NA      NA\n",
      "m[2,1] s2 a1        4.40544e+00  4.79231000      NA            NA      NA\n",
      "m[3,1] s3 a1        4.39612e+00  4.78945000      NA            NA      NA\n",
      "m[4,1] s4 a1       -2.23951e+00  1.63364000      NA            NA      NA\n",
      "m[1,2] s1 a2        4.40205e+00  4.79118000      NA            NA      NA\n",
      "m[2,2] s2 a2       -2.19037e+00  1.60202000      NA            NA      NA\n",
      "m[3,2] s3 a2       -2.30266e+00  1.62794000      NA            NA      NA\n",
      "m[4,2] s4 a2       -2.45535e+00  1.56595000      NA            NA      NA\n",
      "m[1,3] s1 a3       -2.56602e+00  1.50263000      NA            NA      NA\n",
      "m[2,3] s2 a3       -2.45444e+00  1.54738000      NA            NA      NA\n",
      "m[3,3] s3 a3       -2.46644e+00  1.52807000      NA            NA      NA\n",
      "m[4,3] s4 a3       -2.80098e+00  1.55523000      NA            NA      NA\n",
      "a1SD                2.36667e-03  5.17287000      NA            NA      NA\n",
      "a2SD                1.69945e-02  8.91927000      NA            NA      NA\n",
      "a1a2SD              1.33894e+00  4.47132000      NA            NA      NA\n",
      "                   ROPEhigh PcntLtROPE PcntInROPE PcntGtROPE\n",
      "ppx1x2p[1,1] s1 a1       NA         NA         NA         NA\n",
      "ppx1x2p[2,1] s2 a1       NA         NA         NA         NA\n",
      "ppx1x2p[3,1] s3 a1       NA         NA         NA         NA\n",
      "ppx1x2p[4,1] s4 a1       NA         NA         NA         NA\n",
      "ppx1x2p[1,2] s1 a2       NA         NA         NA         NA\n",
      "ppx1x2p[2,2] s2 a2       NA         NA         NA         NA\n",
      "ppx1x2p[3,2] s3 a2       NA         NA         NA         NA\n",
      "ppx1x2p[4,2] s4 a2       NA         NA         NA         NA\n",
      "ppx1x2p[1,3] s1 a3       NA         NA         NA         NA\n",
      "ppx1x2p[2,3] s2 a3       NA         NA         NA         NA\n",
      "ppx1x2p[3,3] s3 a3       NA         NA         NA         NA\n",
      "ppx1x2p[4,3] s4 a3       NA         NA         NA         NA\n",
      "ppx1p[1]                 NA         NA         NA         NA\n",
      "ppx1p[2]                 NA         NA         NA         NA\n",
      "ppx1p[3]                 NA         NA         NA         NA\n",
      "ppx1p[4]                 NA         NA         NA         NA\n",
      "ppx2p[1]                 NA         NA         NA         NA\n",
      "ppx2p[2]                 NA         NA         NA         NA\n",
      "ppx2p[3]                 NA         NA         NA         NA\n",
      "b0                       NA         NA         NA         NA\n",
      "b1[1] s1                 NA         NA         NA         NA\n",
      "b1[2] s2                 NA         NA         NA         NA\n",
      "b1[3] s3                 NA         NA         NA         NA\n",
      "b1[4] s4                 NA         NA         NA         NA\n",
      "b2[1] a1                 NA         NA         NA         NA\n",
      "b2[2] a2                 NA         NA         NA         NA\n",
      "b2[3] a3                 NA         NA         NA         NA\n",
      "b1b2[1,1] s1 a1          NA         NA         NA         NA\n",
      "b1b2[2,1] s2 a1          NA         NA         NA         NA\n",
      "b1b2[3,1] s3 a1          NA         NA         NA         NA\n",
      "b1b2[4,1] s4 a1          NA         NA         NA         NA\n",
      "b1b2[1,2] s1 a2          NA         NA         NA         NA\n",
      "b1b2[2,2] s2 a2          NA         NA         NA         NA\n",
      "b1b2[3,2] s3 a2          NA         NA         NA         NA\n",
      "b1b2[4,2] s4 a2          NA         NA         NA         NA\n",
      "b1b2[1,3] s1 a3          NA         NA         NA         NA\n",
      "b1b2[2,3] s2 a3          NA         NA         NA         NA\n",
      "b1b2[3,3] s3 a3          NA         NA         NA         NA\n",
      "b1b2[4,3] s4 a3          NA         NA         NA         NA\n",
      "m[1,1] s1 a1             NA         NA         NA         NA\n",
      "m[2,1] s2 a1             NA         NA         NA         NA\n",
      "m[3,1] s3 a1             NA         NA         NA         NA\n",
      "m[4,1] s4 a1             NA         NA         NA         NA\n",
      "m[1,2] s1 a2             NA         NA         NA         NA\n",
      "m[2,2] s2 a2             NA         NA         NA         NA\n",
      "m[3,2] s3 a2             NA         NA         NA         NA\n",
      "m[4,2] s4 a2             NA         NA         NA         NA\n",
      "m[1,3] s1 a3             NA         NA         NA         NA\n",
      "m[2,3] s2 a3             NA         NA         NA         NA\n",
      "m[3,3] s3 a3             NA         NA         NA         NA\n",
      "m[4,3] s4 a3             NA         NA         NA         NA\n",
      "a1SD                     NA         NA         NA         NA\n",
      "a2SD                     NA         NA         NA         NA\n",
      "a1a2SD                   NA         NA         NA         NA\n"
     ]
    }
   ],
   "source": [
    "#------------------------------------------------------------------------------- \n",
    "# Get summary statistics of chain:\n",
    "summaryInfo = smryMCMC( mcmcCoda , \n",
    "                        datFrm=myDataFrame , x1Name=x1Name , x2Name=x2Name ,\n",
    "#                         x1contrasts=x1contrasts , \n",
    "#                         x2contrasts=x2contrasts , \n",
    "#                         x1x2contrasts=x1x2contrasts ,\n",
    "                        saveName=fileNameRoot )\n",
    "show(summaryInfo)\n",
    "# Display posterior information:\n",
    "plotMCMC( mcmcCoda , \n",
    "          datFrm=myDataFrame , yName=yName , x1Name=x1Name , x2Name=x2Name ,\n",
    "#           x1contrasts=x1contrasts , \n",
    "#           x2contrasts=x2contrasts , \n",
    "#           x1x2contrasts=x1x2contrasts ,\n",
    "          saveName=fileNameRoot , saveType=graphFileType )"
   ]
  },
  {
   "cell_type": "code",
   "execution_count": null,
   "metadata": {},
   "outputs": [],
   "source": []
  }
 ],
 "metadata": {
  "kernelspec": {
   "display_name": "R 3.4",
   "language": "R",
   "name": "ir34"
  },
  "language_info": {
   "codemirror_mode": "r",
   "file_extension": ".r",
   "mimetype": "text/x-r-source",
   "name": "R",
   "pygments_lexer": "r",
   "version": "3.4.3"
  }
 },
 "nbformat": 4,
 "nbformat_minor": 2
}
